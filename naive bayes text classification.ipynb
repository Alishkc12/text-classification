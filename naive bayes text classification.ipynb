{
 "cells": [
  {
   "cell_type": "markdown",
   "metadata": {},
   "source": [
    "importing required libraries"
   ]
  },
  {
   "cell_type": "code",
   "execution_count": 1,
   "metadata": {},
   "outputs": [],
   "source": [
    "import sklearn.datasets as skd\n",
    "from sklearn.feature_extraction.text import TfidfTransformer\n",
    "from sklearn.feature_extraction.text import TfidfVectorizer\n",
    "from sklearn.feature_extraction.text import CountVectorizer\n",
    "from sklearn.naive_bayes import MultinomialNB\n",
    "from sklearn import metrics\n",
    "from sklearn.metrics import accuracy_score\n",
    "from sklearn.pipeline import Pipeline"
   ]
  },
  {
   "cell_type": "code",
   "execution_count": 2,
   "metadata": {},
   "outputs": [
    {
     "name": "stdout",
     "output_type": "stream",
     "text": [
      "0.8422995780590717\n",
      "                        precision    recall  f1-score   support\n",
      "\n",
      "           alt.atheism       0.97      0.58      0.73       319\n",
      "         comp.graphics       0.96      0.87      0.92       389\n",
      "               sci.med       0.96      0.80      0.87       396\n",
      "             sci.space       0.92      0.92      0.92       394\n",
      "soc.religion.christian       0.62      0.98      0.76       398\n",
      "\n",
      "              accuracy                           0.84      1896\n",
      "             macro avg       0.89      0.83      0.84      1896\n",
      "          weighted avg       0.88      0.84      0.84      1896\n",
      "\n"
     ]
    }
   ],
   "source": [
    "#reading data\n",
    "category=['alt.atheism','comp.graphics','sci.med','sci.space','soc.religion.christian']\n",
    "test=skd.load_files('test',categories=category,encoding='ISO-8859-1')\n",
    "train=skd.load_files('train',categories=category,encoding='ISO-8859-1')\n",
    "\n",
    "\n",
    "#creating pipline first vectorizing and then performing naive_bayes\n",
    "clf1=Pipeline([('vect',TfidfVectorizer()),('clf',MultinomialNB())])\n",
    "clf1.fit(train.data,train.target)\n",
    "predict=clf1.predict(test.data)\n",
    "print(accuracy_score(predict,test.target))\n",
    "print(metrics.classification_report(test.target,predict,target_names=test.target_names))"
   ]
  },
  {
   "cell_type": "code",
   "execution_count": 1,
   "metadata": {},
   "outputs": [],
   "source": [
    "import sklearn.datasets as skd\n",
    "from sklearn.feature_extraction.text import TfidfTransformer\n",
    "from sklearn.feature_extraction.text import TfidfVectorizer\n",
    "from sklearn.feature_extraction.text import CountVectorizer\n",
    "from sklearn.naive_bayes import MultinomialNB\n",
    "from sklearn import metrics\n",
    "from sklearn.metrics import accuracy_score\n",
    "from sklearn.pipeline import Pipeline"
   ]
  },
  {
   "cell_type": "code",
   "execution_count": 41,
   "metadata": {},
   "outputs": [
    {
     "name": "stdout",
     "output_type": "stream",
     "text": [
      "enter the text : pluto\n",
      "your blog is science and space\n"
     ]
    }
   ],
   "source": [
    "a=[]\n",
    "def get_data(text):\n",
    "    \n",
    "    a.append(text)\n",
    "data=str(input('enter the text : '))\n",
    "get_data(data)\n",
    "\n",
    "category=['alt.atheism','comp.graphics','sci.med','sci.space','soc.religion.christian']\n",
    "test=skd.load_files('test',categories=category,encoding='ISO-8859-1')\n",
    "train=skd.load_files('train',categories=category,encoding='ISO-8859-1')\n",
    "vector=CountVectorizer()\n",
    "vectorizer=TfidfTransformer()\n",
    "count=vector.fit_transform(train.data)\n",
    "train1=vectorizer.fit_transform(count)\n",
    "clf=MultinomialNB().fit(train1,train.target)\n",
    "clf=MultinomialNB().fit(train1,train.target)\n",
    "c=vector.transform(a)\n",
    "t=vectorizer.transform(c)\n",
    "\n",
    "if(int(clf.predict(c))==1):\n",
    "    print(\"your blog is related to computer graphic\")\n",
    "    print(\"we have categorized this in database\")    \n",
    "elif(int(clf.predict(c))==0):\n",
    "    print(\"your blog is related to atheism\")\n",
    "    print(\"we have categorized this in database\")    \n",
    "elif(int(clf.predict(c))==2):\n",
    "    print(\"your blog is related to science nad medical\")\n",
    "    print(\"we have categorized this in database\")    \n",
    "elif(int(clf.predict(c))==3):\n",
    "     print(\"your blog is science and space\")\n",
    "elif(int(clf.predict(c))==4):\n",
    "     print(\"your blog is religion\")        \n",
    "    \n",
    "else:\n",
    "    print(\"seems we cant analyze\")\n"
   ]
  },
  {
   "cell_type": "code",
   "execution_count": null,
   "metadata": {},
   "outputs": [],
   "source": [
    "a="
   ]
  },
  {
   "cell_type": "code",
   "execution_count": null,
   "metadata": {},
   "outputs": [],
   "source": []
  }
 ],
 "metadata": {
  "kernelspec": {
   "display_name": "Python 3",
   "language": "python",
   "name": "python3"
  },
  "language_info": {
   "codemirror_mode": {
    "name": "ipython",
    "version": 3
   },
   "file_extension": ".py",
   "mimetype": "text/x-python",
   "name": "python",
   "nbconvert_exporter": "python",
   "pygments_lexer": "ipython3",
   "version": "3.7.3"
  }
 },
 "nbformat": 4,
 "nbformat_minor": 2
}
